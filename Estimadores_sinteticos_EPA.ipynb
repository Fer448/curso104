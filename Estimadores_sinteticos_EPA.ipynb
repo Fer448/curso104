{
 "cells": [
  {
   "cell_type": "markdown",
   "metadata": {},
   "source": [
    "# ESTIMADORES SINTÉTICOS"
   ]
  },
  {
   "cell_type": "markdown",
   "metadata": {
    "id": "Q5Hv4aOATxIX"
   },
   "source": [
    "Los estimadores sintéticos son una técnica estadística avanzada utilizada para obtener estimaciones precisas de características de una población (como ingresos, tasa de desempleo, nivel educativo, etc.) para subgrupos pequeños o áreas geográficas específicas (como un municipio, un barrio o una escuela), cuando las muestras directas de esas áreas son demasiado pequeñas para proporcionar resultados fiables por sí solas.\n",
    "\n",
    "El Problema que Resuelven\n",
    "Imagina que una encuesta nacional tiene una muestra de 50,000 hogares. Para estimar el desempleo a nivel nacional o incluso por comunidades autónomas grandes, la muestra es suficiente. Pero si quieres saber la tasa de desempleo en un pueblo específico de 5,000 habitantes, es probable que en la encuesta solo hayan entrevistado a 20 personas de ese pueblo. Una estimación basada solo en esas 20 personas (estimación directa) tendría un error muestral enorme y sería muy poco fiable.\n",
    "\n",
    "Los estimadores sintéticos resuelven este problema \"prestando fuerza\" de áreas más grandes y similares.\n",
    "\n",
    "La Idea Fundamental\n",
    "La premisa clave es: el comportamiento de la población en un área pequeña (el municipio) es similar al de un área mayor (la provincia o región) a la que pertenece, una vez se controlan por ciertas características conocidas.\n",
    "\n",
    "En otras palabras, se asume que la relación entre variables (p. ej., entre el nivel educativo y la probabilidad de estar empleado) es la misma en el área grande que en la pequeña. El estimador sintético aplica esta relación, observada en la área grande, a los datos poblacionales conocidos de la área pequeña."
   ]
  },
  {
   "cell_type": "markdown",
   "metadata": {
    "id": "RM23GrQVR8AM"
   },
   "source": [
    "# Implementación Práctica\n",
    "\n"
   ]
  },
  {
   "cell_type": "markdown",
   "metadata": {
    "id": "d0KWdV-iRxOr"
   },
   "source": [
    "# Paso 1: Recopilar Datos"
   ]
  },
  {
   "cell_type": "code",
   "execution_count": 3,
   "metadata": {
    "executionInfo": {
     "elapsed": 36,
     "status": "ok",
     "timestamp": 1758206970362,
     "user": {
      "displayName": "Fernando J. Maté",
      "userId": "05846851611877646639"
     },
     "user_tz": -120
    },
    "id": "YR0tCtZoQ0h3"
   },
   "outputs": [],
   "source": [
    "# Variables necesarias\n",
    "datos_epa_madrid = {\n",
    "    'tasa_paro': 0.125,  # 12.5% (ejemplo)\n",
    "    'poblacion_activa': 3450000,\n",
    "    'ocupados': 3020000,\n",
    "    'parados': 430000\n",
    "}\n",
    "\n",
    "# Datos auxiliares por distrito (ejemplo Distrito Centro)\n",
    "datos_centro = {\n",
    "    'poblacion_total': 149718,\n",
    "    'poblacion_16_64': 105000,\n",
    "    'afiliados_ss': 68000,\n",
    "    'paro_registrado': 8500\n",
    "}"
   ]
  },
  {
   "cell_type": "markdown",
   "metadata": {
    "id": "c3a6qIEISPnn"
   },
   "source": [
    "# Paso 2: Calcular Estimadores - Tasa de paro sintética\n"
   ]
  },
  {
   "cell_type": "code",
   "execution_count": 10,
   "metadata": {
    "executionInfo": {
     "elapsed": 41,
     "status": "ok",
     "timestamp": 1758206997924,
     "user": {
      "displayName": "Fernando J. Maté",
      "userId": "05846851611877646639"
     },
     "user_tz": -120
    },
    "id": "785BL-HnREUH"
   },
   "outputs": [],
   "source": [
    "def tasa_paro_sintetica(datos_distrito, datos_madrid):\n",
    "    \"\"\"\n",
    "    Calcula tasa de paro sintética para distrito\n",
    "    \"\"\"\n",
    "    # Usando paro registrado como variable auxiliar\n",
    "    proporcion_paro = (datos_distrito['paro_registrado'] /\n",
    "                      datos_madrid['paro_registrado_total'])\n",
    "\n",
    "    tasa_paro_sint = proporcion_paro * datos_madrid['tasa_paro_total']\n",
    "\n",
    "    return tasa_paro_sint"
   ]
  },
  {
   "cell_type": "markdown",
   "metadata": {
    "id": "pLzEn2NbSWI_"
   },
   "source": [
    "# Paso 3: Estimación por Grupos Demográficos"
   ]
  },
  {
   "cell_type": "code",
   "execution_count": 11,
   "metadata": {
    "executionInfo": {
     "elapsed": 5,
     "status": "ok",
     "timestamp": 1758207001393,
     "user": {
      "displayName": "Fernando J. Maté",
      "userId": "05846851611877646639"
     },
     "user_tz": -120
    },
    "id": "DS0Tjp6-RJk_"
   },
   "outputs": [],
   "source": [
    "def estimador_sintetico_ponderado(datos_distrito, datos_madrid):\n",
    "    \"\"\"\n",
    "    Estimador sintético ponderado por grupos de edad y sexo\n",
    "    \"\"\"\n",
    "    # Grupos de edad y sexo (ejemplo simplificado)\n",
    "    grupos = ['hombres_16_24', 'hombres_25_44', 'hombres_45_64',\n",
    "              'mujeres_16_24', 'mujeres_25_44', 'mujeres_45_64']\n",
    "\n",
    "    tasa_paro_total = 0\n",
    "    poblacion_total = datos_distrito['poblacion_16_64']\n",
    "\n",
    "    for grupo in grupos:\n",
    "        proporcion_grupo = (datos_distrito[grupo] / poblacion_total)\n",
    "        # Access the rates from the nested dictionary 'tasas_por_grupo'\n",
    "        tasa_grupo_madrid = datos_madrid['tasas_por_grupo'][grupo]\n",
    "\n",
    "        tasa_paro_total += proporcion_grupo * tasa_grupo_madrid\n",
    "\n",
    "    return tasa_paro_total"
   ]
  },
  {
   "cell_type": "markdown",
   "metadata": {
    "id": "Wi0kGDe4Sden"
   },
   "source": [
    "# Ejemplo Completo para un Distrito"
   ]
  },
  {
   "cell_type": "code",
   "execution_count": 12,
   "metadata": {
    "colab": {
     "base_uri": "https://localhost:8080/"
    },
    "executionInfo": {
     "elapsed": 12,
     "status": "ok",
     "timestamp": 1758207004907,
     "user": {
      "displayName": "Fernando J. Maté",
      "userId": "05846851611877646639"
     },
     "user_tz": -120
    },
    "id": "X-NmNR8nSoF1",
    "outputId": "5b178668-51a6-4046-dca2-d56b69cb1f3f"
   },
   "outputs": [
    {
     "name": "stdout",
     "output_type": "stream",
     "text": [
      "Tasa de paro sintética simple: 0.530%\n",
      "Tasa de paro sintética ponderada: 13.636%\n"
     ]
    }
   ],
   "source": [
    "# Datos EPA Comunidad de Madrid (ejemplo)\n",
    "epa_madrid = {\n",
    "    'tasa_paro_total': 0.118,\n",
    "    'poblacion_activa': 3415000,\n",
    "    'paro_registrado_total': 198500,\n",
    "    'tasas_por_grupo': {\n",
    "        'hombres_16_24': 0.215,\n",
    "        'hombres_25_44': 0.098,\n",
    "        'hombres_45_64': 0.112,\n",
    "        'mujeres_16_24': 0.228,\n",
    "        'mujeres_25_44': 0.125,\n",
    "        'mujeres_45_64': 0.134\n",
    "    }\n",
    "}\n",
    "\n",
    "# Datos Distrito Centro Madrid\n",
    "centro_madrid = {\n",
    "    'poblacion_total': 149718,\n",
    "    'poblacion_16_64': 112289,\n",
    "    'paro_registrado': 8920,\n",
    "    'hombres_16_24': 8750,\n",
    "    'hombres_25_44': 28500,\n",
    "    'hombres_45_64': 22300,\n",
    "    'mujeres_16_24': 8320,\n",
    "    'mujeres_25_44': 27200,\n",
    "    'mujeres_45_64': 21219\n",
    "}\n",
    "\n",
    "# Cálculo de estimadores\n",
    "tasa_paro_simple = (centro_madrid['paro_registrado'] /\n",
    "                   epa_madrid['paro_registrado_total']) * epa_madrid['tasa_paro_total']\n",
    "\n",
    "tasa_paro_ponderada = estimador_sintetico_ponderado(centro_madrid, epa_madrid)\n",
    "\n",
    "print(f\"Tasa de paro sintética simple: {tasa_paro_simple:.3%}\")\n",
    "print(f\"Tasa de paro sintética ponderada: {tasa_paro_ponderada:.3%}\")"
   ]
  },
  {
   "cell_type": "markdown",
   "metadata": {
    "id": "SP-CDmpbSvtv"
   },
   "source": [
    "# Consideraciones Importantes\n",
    "# Ventajas:\n",
    "Bajo coste de implementación\n",
    "\n",
    "Utiliza información disponible\n",
    "\n",
    "Fácil de calcular\n",
    "\n",
    "# Limitaciones:\n",
    "Asume misma estructura que área mayor\n",
    "\n",
    "Puede tener sesgos si hay heterogeneidad\n",
    "\n",
    "Precisión depende de correlación con variables auxiliares\n",
    "\n",
    "# Mejoras Recomendadas:\n",
    "Estimadores compuestos: Combinar con estimadores directos\n",
    "\n",
    "Modelos de área: Usar modelos estadísticos más avanzados\n",
    "\n",
    "Validación cruzada: Comparar con otras fuentes disponibles\n",
    "\n",
    "# Fuentes de Datos Recomendadas\n",
    "INE: Censos y padrones\n",
    "\n",
    "Comunidad de Madrid: Estadísticas laborales\n",
    "\n",
    "Ayuntamiento de Madrid: Datos por distrito\n",
    "\n",
    "SEPE: Paro registrado por distritos\n",
    "\n",
    "A continuación, voy a calcular estimadores sintéticos para los distritos de Puente de Vallecas, Villa de Vallecas, Usera y Villaverde utilizando datos reales disponibles y la metodología de estimación sintética.\n",
    "\n",
    "Datos Base de Referencia (2023)\n",
    "Comunidad de Madrid (EPA):\n",
    "\n",
    "Tasa de paro: 11.2%\n",
    "\n",
    "Población activa: 3,450,000\n",
    "\n",
    "Parados: 386,400\n",
    "\n",
    "Afiliados SS: 3,063,600"
   ]
  },
  {
   "cell_type": "markdown",
   "metadata": {},
   "source": [
    "# ESTIMACIÓN PARA LOS DISTRITOS DE: PUENTE DE VALLECAS, VILLA DE VALLECAS, VILLAVERDE Y USERA"
   ]
  },
  {
   "cell_type": "markdown",
   "metadata": {},
   "source": [
    "Datos por Distrito (Fuentes: Ayuntamiento de Madrid, Padrón 2023)"
   ]
  },
  {
   "cell_type": "code",
   "execution_count": 14,
   "metadata": {
    "executionInfo": {
     "elapsed": 42,
     "status": "ok",
     "timestamp": 1758207028890,
     "user": {
      "displayName": "Fernando J. Maté",
      "userId": "05846851611877646639"
     },
     "user_tz": -120
    },
    "id": "JhXUX5VaS5SW"
   },
   "outputs": [],
   "source": [
    "# Datos demográficos y auxiliares por distrito\n",
    "datos_distritos = {\n",
    "    'puente_vallecas': {\n",
    "        'poblacion_total': 240189,\n",
    "        'poblacion_16_64': 168132,\n",
    "        'paro_registrado': 16842,\n",
    "        'afiliados_ss': 85673,\n",
    "        'riesgo_exclusion': 28.7  # %\n",
    "    },\n",
    "    'villa_vallecas': {\n",
    "        'poblacion_total': 114832,\n",
    "        'poblacion_16_64': 80382,\n",
    "        'paro_registrado': 7215,\n",
    "        'afiliados_ss': 41892,\n",
    "        'riesgo_exclusion': 22.3  # %\n",
    "    },\n",
    "    'usera': {\n",
    "        'poblacion_total': 141189,\n",
    "        'poblacion_16_64': 98832,\n",
    "        'paro_registrado': 10327,\n",
    "        'afiliados_ss': 52148,\n",
    "        'riesgo_exclusion': 31.2  # %\n",
    "    },\n",
    "    'villaverde': {\n",
    "        'poblacion_total': 153802,\n",
    "        'poblacion_16_64': 107661,\n",
    "        'paro_registrado': 11894,\n",
    "        'afiliados_ss': 57321,\n",
    "        'riesgo_exclusion': 29.8  # %\n",
    "    }\n",
    "}\n",
    "\n",
    "# Totales Comunidad Madrid\n",
    "madrid_total = {\n",
    "    'paro_registrado_total': 298500,\n",
    "    'afiliados_ss_total': 3063600,\n",
    "    'tasa_paro_epa': 0.112\n",
    "}"
   ]
  },
  {
   "cell_type": "markdown",
   "metadata": {
    "id": "KxecYoCKTHQn"
   },
   "source": [
    "# Cálculo de Estimadores Sintéticos\n",
    "# 1. Tasa de Paro por Método Directo"
   ]
  },
  {
   "cell_type": "code",
   "execution_count": 15,
   "metadata": {
    "executionInfo": {
     "elapsed": 8,
     "status": "ok",
     "timestamp": 1758207035568,
     "user": {
      "displayName": "Fernando J. Maté",
      "userId": "05846851611877646639"
     },
     "user_tz": -120
    },
    "id": "V1YpVFF3TIZ3"
   },
   "outputs": [],
   "source": [
    "def calcular_tasas_paro_sinteticas(datos_distritos, madrid_total):\n",
    "    resultados = {}\n",
    "\n",
    "    for distrito, datos in datos_distritos.items():\n",
    "        # Método 1: Basado en paro registrado\n",
    "        tasa_paro_1 = (datos['paro_registrado'] / madrid_total['paro_registrado_total']) * madrid_total['tasa_paro_epa']\n",
    "\n",
    "        # Método 2: Basado en afiliación SS (complementario)\n",
    "        proporcion_empleo = datos['afiliados_ss'] / madrid_total['afiliados_ss_total']\n",
    "        tasa_paro_2 = (1 - proporcion_empleo) * 0.85  # Factor de ajuste\n",
    "\n",
    "        # Media ponderada\n",
    "        tasa_final = (tasa_paro_1 * 0.7 + tasa_paro_2 * 0.3)\n",
    "\n",
    "        resultados[distrito] = {\n",
    "            'tasa_paro_sintetica': tasa_final,\n",
    "            'parados_estimados': int(datos['poblacion_16_64'] * tasa_final),\n",
    "            'poblacion_activa_estimada': datos['poblacion_16_64']\n",
    "        }\n",
    "\n",
    "    return resultados"
   ]
  },
  {
   "cell_type": "markdown",
   "metadata": {
    "id": "sEKnfYqMTNbP"
   },
   "source": [
    "# 2. Aplicación del Cálculo"
   ]
  },
  {
   "cell_type": "code",
   "execution_count": 16,
   "metadata": {
    "colab": {
     "base_uri": "https://localhost:8080/"
    },
    "executionInfo": {
     "elapsed": 10,
     "status": "ok",
     "timestamp": 1758207039942,
     "user": {
      "displayName": "Fernando J. Maté",
      "userId": "05846851611877646639"
     },
     "user_tz": -120
    },
    "id": "9pQlG9U-TQz3",
    "outputId": "95d73cd6-d7ba-43a8-f8ee-747d896dd10f"
   },
   "outputs": [
    {
     "name": "stdout",
     "output_type": "stream",
     "text": [
      "ESTIMACIONES DE PARO POR DISTRITO (2023)\n",
      "==================================================\n",
      "Puente Vallecas      | Tasa paro: 25.2% | Parados estimados: 42,418 | Población activa: 168,132\n",
      "Villa Vallecas       | Tasa paro: 25.3% | Parados estimados: 20,369 | Población activa:  80,382\n",
      "Usera                | Tasa paro: 25.3% | Parados estimados: 25,041 | Población activa:  98,832\n",
      "Villaverde           | Tasa paro: 25.3% | Parados estimados: 27,276 | Población activa: 107,661\n"
     ]
    }
   ],
   "source": [
    "# Calcular estimaciones\n",
    "resultados = calcular_tasas_paro_sinteticas(datos_distritos, madrid_total)\n",
    "\n",
    "# Mostrar resultados\n",
    "print(\"ESTIMACIONES DE PARO POR DISTRITO (2023)\")\n",
    "print(\"=\" * 50)\n",
    "\n",
    "for distrito, datos in resultados.items():\n",
    "    nombre = distrito.replace('_', ' ').title()\n",
    "    print(f\"{nombre:20} | Tasa paro: {datos['tasa_paro_sintetica']:.1%} | \"\n",
    "          f\"Parados estimados: {datos['parados_estimados']:>6,} | \"\n",
    "          f\"Población activa: {datos['poblacion_activa_estimada']:>7,}\")"
   ]
  }
 ],
 "metadata": {
  "colab": {
   "authorship_tag": "ABX9TyNrtgWqEs5GAXi8X7c/QK6s",
   "provenance": []
  },
  "kernelspec": {
   "display_name": "Python 3",
   "name": "python3"
  },
  "language_info": {
   "name": "python"
  }
 },
 "nbformat": 4,
 "nbformat_minor": 0
}
