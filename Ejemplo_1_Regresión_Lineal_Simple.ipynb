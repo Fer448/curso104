{
  "cells": [
    {
      "cell_type": "code",
      "execution_count": null,
      "id": "12bb3b16",
      "metadata": {
        "id": "12bb3b16"
      },
      "outputs": [],
      "source": [
        "import numpy as np"
      ]
    },
    {
      "cell_type": "code",
      "execution_count": null,
      "id": "2ac9270b",
      "metadata": {
        "id": "2ac9270b"
      },
      "outputs": [],
      "source": [
        "# Modificamos los parámetros de los gráficos en matplotlib\n",
        "from matplotlib.pyplot import rcParams\n",
        "\n",
        "rcParams['figure.figsize'] = 12, 6 # el primer dígito es el ancho y el segundo el alto\n",
        "rcParams[\"font.weight\"] = \"bold\"\n",
        "rcParams[\"font.size\"] = 10\n",
        "rcParams[\"axes.labelweight\"] = \"bold\""
      ]
    },
    {
      "cell_type": "code",
      "execution_count": null,
      "id": "d4b8984c",
      "metadata": {
        "id": "d4b8984c"
      },
      "outputs": [],
      "source": [
        "from sklearn.datasets import load_iris\n",
        "import pandas as pd\n",
        "\n",
        "# Construimos un dataframe con las cuatro columnas de datos\n",
        "iris_df = pd.DataFrame(data=load_iris()[\"data\"], columns=load_iris()[\"feature_names\"])\n",
        "\n",
        "# Añadimos como quinta columna, el nombre de la especie de flor\n",
        "iris_df[\"label\"] = load_iris()[\"target_names\"][load_iris()[\"target\"]]"
      ]
    },
    {
      "cell_type": "code",
      "execution_count": null,
      "id": "195848d1",
      "metadata": {
        "id": "195848d1"
      },
      "outputs": [],
      "source": [
        "# Mostramos el DataFame\n",
        "iris_df"
      ]
    },
    {
      "cell_type": "code",
      "execution_count": null,
      "id": "VAbnvmfUJSVX",
      "metadata": {
        "id": "VAbnvmfUJSVX"
      },
      "outputs": [],
      "source": [
        "# Para mostrar todo el DataFame\n",
        "pd.set_option('display.max_rows', 500)\n",
        "pd.set_option('display.max_columns', 500)\n",
        "pd.set_option('display.width', 1000)\n"
      ]
    },
    {
      "cell_type": "code",
      "execution_count": null,
      "id": "d6f94f84",
      "metadata": {
        "id": "d6f94f84"
      },
      "outputs": [],
      "source": [
        "# Mostramos el DataFame\n",
        "iris_df"
      ]
    },
    {
      "cell_type": "code",
      "execution_count": null,
      "id": "1ec85495",
      "metadata": {
        "id": "1ec85495"
      },
      "outputs": [],
      "source": [
        "# Restauramos las opciones de visualización a los valores por defecto\n",
        "pd.reset_option('^display.', silent=True)"
      ]
    },
    {
      "cell_type": "code",
      "execution_count": null,
      "id": "1752df05",
      "metadata": {
        "id": "1752df05"
      },
      "outputs": [],
      "source": [
        "# La info útil sobre los datos en general\n",
        "iris_df.info()"
      ]
    },
    {
      "cell_type": "code",
      "execution_count": null,
      "id": "5a769f3e",
      "metadata": {
        "id": "5a769f3e",
        "scrolled": true
      },
      "outputs": [],
      "source": [
        "# Podemos extraer las estadísticas principales de los datos\n",
        "iris_df.describe()"
      ]
    },
    {
      "cell_type": "code",
      "execution_count": null,
      "id": "8997558b",
      "metadata": {
        "id": "8997558b"
      },
      "outputs": [],
      "source": [
        "import seaborn as sns\n",
        "import matplotlib.pyplot as plt\n",
        "\n",
        "sns.pairplot(iris_df, hue=\"label\", height=3)\n",
        "plt.show()"
      ]
    },
    {
      "cell_type": "code",
      "execution_count": null,
      "id": "ed58a747",
      "metadata": {
        "id": "ed58a747"
      },
      "outputs": [],
      "source": [
        "# Restauramos los valores por defecto para no mostrar tantas lineas\n",
        "pd.reset_option('^display.', silent=True)"
      ]
    },
    {
      "cell_type": "code",
      "execution_count": null,
      "id": "33f0f634",
      "metadata": {
        "id": "33f0f634"
      },
      "outputs": [],
      "source": [
        "# Explorar si existen valores nulos\n",
        "iris_df.isnull()"
      ]
    },
    {
      "cell_type": "code",
      "execution_count": null,
      "id": "27ff8b33",
      "metadata": {
        "id": "27ff8b33"
      },
      "outputs": [],
      "source": [
        "# Conteo de valores perdidos/faltantes\n",
        "iris_df.isnull().sum()"
      ]
    },
    {
      "cell_type": "code",
      "execution_count": null,
      "id": "fcc63a23",
      "metadata": {
        "id": "fcc63a23"
      },
      "outputs": [],
      "source": [
        "# Quitar los posibles valores perdidos\n",
        "iris_df = iris_df.dropna()\n",
        "iris_df"
      ]
    },
    {
      "cell_type": "code",
      "execution_count": null,
      "id": "4964cd13",
      "metadata": {
        "id": "4964cd13"
      },
      "outputs": [],
      "source": [
        "# Estadísticas principales de los datos\n",
        "iris_df.describe()"
      ]
    },
    {
      "cell_type": "markdown",
      "id": "8eb5159a",
      "metadata": {
        "id": "8eb5159a"
      },
      "source": [
        "boxplot muestra un diagrama de caja  \n",
        "https://seaborn.pydata.org/generated/seaborn.boxplot.html  \n",
        "\n",
        "subplots permite organizar los gráficos de forma estructurada (en filas y columnas)  \n",
        "https://matplotlib.org/stable/api/_as_gen/matplotlib.pyplot.subplots.html   \n"
      ]
    },
    {
      "cell_type": "code",
      "execution_count": null,
      "id": "32dd4d95",
      "metadata": {
        "id": "32dd4d95"
      },
      "outputs": [],
      "source": [
        "# Graficar la distribución y los valores demostrados en el diagrama de caja\n",
        "# Creamos un diagrama de dos filas y dos columnas (2,2)\n",
        "fig, axes = plt.subplots(2, 2, figsize=(16,9))\n",
        "sns.boxplot(y=\"petal width (cm)\", x= \"label\", data=iris_df,  orient='v', ax=axes[0, 0])\n",
        "sns.boxplot(y=\"petal length (cm)\", x= \"label\", data=iris_df,  orient='v', ax=axes[0, 1])\n",
        "sns.boxplot(y=\"sepal width (cm)\", x= \"label\", data=iris_df,  orient='v', ax=axes[1, 0])\n",
        "sns.boxplot(y=\"sepal length (cm)\", x= \"label\", data=iris_df,  orient='v', ax=axes[1, 1])\n",
        "plt.show()"
      ]
    },
    {
      "cell_type": "code",
      "execution_count": null,
      "id": "dc10e378",
      "metadata": {
        "id": "dc10e378"
      },
      "outputs": [],
      "source": [
        "# Creamos un nuevo DataFrame para quedarnos solamente con los datos de la especie \"setosa\"\n",
        "dataframe_setosa_df = iris_df[iris_df['label']==\"setosa\"]\n",
        "\n",
        "# Visualizamos los valores del largo del pétalo y su diagrama de cajas\n",
        "# Creamos un diagrama de dos filas y una columna (2,1)\n",
        "fig, axes = plt.subplots(2,1)\n",
        "sns.swarmplot(x=dataframe_setosa_df['petal length (cm)'], ax=axes[0])\n",
        "sns.boxplot(x=dataframe_setosa_df['petal length (cm)'], ax=axes[1])\n",
        "plt.show()"
      ]
    },
    {
      "cell_type": "code",
      "execution_count": null,
      "id": "5e71a81e",
      "metadata": {
        "id": "5e71a81e"
      },
      "outputs": [],
      "source": [
        "# Filtrar los valores atípicos para la especie \"setosa\" basada en el rango intercuartil\n",
        "Q1 = dataframe_setosa_df['petal length (cm)'].quantile(0.25)\n",
        "Q3 = dataframe_setosa_df['petal length (cm)'].quantile(0.75)\n",
        "\n",
        "# IQR es el rango intercuartil\n",
        "IQR = Q3 - Q1\n",
        "\n",
        "# Limites permitidos para los datos del largo del pétalo\n",
        "lim_inf = (Q1 - 1.5 * IQR)\n",
        "lim_sup = (Q3 + 1.5 * IQR)\n",
        "\n",
        "# Crear la máscara\n",
        "filtro_oulier = (dataframe_setosa_df['petal length (cm)'] < lim_inf) | (dataframe_setosa_df['petal length (cm)'] > lim_sup)\n",
        "\n",
        "# Filtramos el dataset aplicando la máscara\n",
        "dataframe_setosa_df[filtro_oulier]"
      ]
    },
    {
      "cell_type": "code",
      "execution_count": null,
      "id": "1dc4410b",
      "metadata": {
        "id": "1dc4410b"
      },
      "outputs": [],
      "source": [
        "# Estadísticas principales de los datos\n",
        "dataframe_setosa_df.describe()"
      ]
    },
    {
      "cell_type": "code",
      "execution_count": null,
      "id": "9f00a3f4",
      "metadata": {
        "id": "9f00a3f4"
      },
      "outputs": [],
      "source": [
        "# Podemos identificar los outliers por sus índices\n",
        "dataframe_setosa_df[filtro_oulier].index"
      ]
    },
    {
      "cell_type": "code",
      "execution_count": null,
      "id": "301e22b7",
      "metadata": {
        "id": "301e22b7"
      },
      "outputs": [],
      "source": [
        "# Quitamos los 4 outliers de setosa del dataset principal \"iris_df\"\n",
        "outliers_ind = dataframe_setosa_df.loc[filtro_oulier].index\n",
        "iris_df = iris_df.drop(index=outliers_ind).reset_index(drop=True)\n",
        "iris_df"
      ]
    },
    {
      "cell_type": "markdown",
      "id": "a3f68592",
      "metadata": {
        "id": "a3f68592"
      },
      "source": [
        "Es fundamental tener en cuenta que un modelo de regresión lineal solamente puede contener  medidas numéricas. La columna \"label\" que indica el tipo de flor no nos hace falta, porque este ejercicio no consiste en determinar el tipo de flor más probable en función de sus características, sino en estimar la longitud del sépalo a partir del conocimiento de la longitud del pétalo mediante una regla general y=f(x) que se ha obtenido mediante los datos de la muestra."
      ]
    },
    {
      "cell_type": "code",
      "execution_count": null,
      "id": "7460f5a6",
      "metadata": {
        "id": "7460f5a6"
      },
      "outputs": [],
      "source": [
        "# Nos quedamos solamente con las columnas numéricas. Eliminamos la columna \"label\"\n",
        "iris_df_num = iris_df.drop(\"label\", axis=1)\n",
        "iris_df_num"
      ]
    },
    {
      "cell_type": "markdown",
      "id": "eb3a482a",
      "metadata": {
        "id": "eb3a482a"
      },
      "source": [
        "Tenemos los siguientes datos:  \n",
        "\n",
        "- iris_df: dataset principal, con todos los datos (150)  \n",
        "- dataframe_setosa: las 50 setosas  \n",
        "- iris_df_num: dataframe numérico, sin la especie de la flor  "
      ]
    },
    {
      "cell_type": "markdown",
      "id": "183592cb",
      "metadata": {
        "id": "183592cb"
      },
      "source": [
        "### Normalizar los datos\n",
        "Por normalizar nos referimos a **poner los datos en una escala similar**, como la escala `[0,1]`, que es un caso especial de la escalación llamado **“min-max”**."
      ]
    },
    {
      "cell_type": "markdown",
      "id": "ad7c11e0",
      "metadata": {
        "id": "ad7c11e0"
      },
      "source": [
        "![0_pVqd_DjfuvdUN5mc.png](attachment:0_pVqd_DjfuvdUN5mc.png)"
      ]
    },
    {
      "cell_type": "code",
      "execution_count": null,
      "id": "d6a206a9",
      "metadata": {
        "id": "d6a206a9"
      },
      "outputs": [],
      "source": [
        "# importar los objetos necesarios de la librería sklearn\n",
        "from sklearn.preprocessing import MinMaxScaler\n",
        "\n",
        "# declarar el tipo de escalamiento y aplicarlo al conjunto de datos\n",
        "escalado = MinMaxScaler().fit(iris_df_num)\n",
        "iris_array_normal = escalado.transform(iris_df_num)"
      ]
    },
    {
      "cell_type": "code",
      "execution_count": null,
      "id": "f21841f1",
      "metadata": {
        "id": "f21841f1"
      },
      "outputs": [],
      "source": [
        "iris_array_normal"
      ]
    },
    {
      "cell_type": "markdown",
      "id": "4eaf6fe3",
      "metadata": {
        "id": "4eaf6fe3"
      },
      "source": [
        "Tenemos los siguientes datos:  \n",
        "\n",
        "- iris_df: dataset principal, con todos los datos (150) y con sus cabeceras  \n",
        "- dataframe_setosa: igual que el anterior, pero solo con las 50 setosas  \n",
        "- iris_df_num: dataframe numérico, sin la especie de la flor, con sus cabeceras  \n",
        "- iris_array_normal: array numérico normalizado [0,1], sin la especie de la flor y sin cabeceras"
      ]
    },
    {
      "cell_type": "code",
      "execution_count": null,
      "id": "81e5901a",
      "metadata": {
        "id": "81e5901a"
      },
      "outputs": [],
      "source": [
        "# El DataFrame numérico original sigue como antes\n",
        "iris_df_num"
      ]
    },
    {
      "cell_type": "code",
      "execution_count": null,
      "id": "abe8f304",
      "metadata": {
        "id": "abe8f304",
        "scrolled": true
      },
      "outputs": [],
      "source": [
        "# Datos normalizados (valores 0-1)\n",
        "print(type(iris_array_normal)) #Array\n",
        "print(iris_array_normal.shape) #146x4\n",
        "print(iris_array_normal.ndim) #2\n",
        "\n",
        "iris_array_normal"
      ]
    },
    {
      "cell_type": "markdown",
      "id": "ab1b9f1e",
      "metadata": {
        "id": "ab1b9f1e"
      },
      "source": [
        "Documentación para la creación de un dataframe  \n",
        "https://pandas.pydata.org/pandas-docs/stable/reference/api/pandas.DataFrame.html"
      ]
    },
    {
      "cell_type": "code",
      "execution_count": null,
      "id": "0bfc81c2",
      "metadata": {
        "id": "0bfc81c2"
      },
      "outputs": [],
      "source": [
        "# Convertimos el array en un DataFrame, especificando sus etiquetas mediante el argumento columns\n",
        "# ...num.columns no tiene nada que ver con número de columnas! Sólo estamos usando las cabeceras del dataset numérico dataset_num\n",
        "iris_df_normal = pd.DataFrame(data=iris_array_normal, columns=iris_df_num.columns)\n",
        "print(type(iris_df_normal))"
      ]
    },
    {
      "cell_type": "markdown",
      "id": "4adad587",
      "metadata": {
        "id": "4adad587"
      },
      "source": [
        "Tenemos los siguientes datos:  \n",
        "\n",
        "- iris_df: dataset principal, con todos los datos (150) y con sus cabeceras  \n",
        "- dataframe_setosa: igual que el anterior, pero solo con las 50 setosas  \n",
        "- iris_df_num: dataframe numérico, sin la especie de la flor, con sus cabeceras  \n",
        "- iris_array_normal: array numérico normalizado [0,1], sin la especie de la flor y sin cabeceras\n",
        "- iris_df_normal: dataframe numérico normalizado [0,1], sin la especie de la flor y con cabeceras"
      ]
    },
    {
      "cell_type": "code",
      "execution_count": null,
      "id": "9ce2ba5a",
      "metadata": {
        "id": "9ce2ba5a"
      },
      "outputs": [],
      "source": [
        "iris_df_normal"
      ]
    },
    {
      "cell_type": "code",
      "execution_count": null,
      "id": "d741d051",
      "metadata": {
        "id": "d741d051"
      },
      "outputs": [],
      "source": [
        "# Verificamos los valores mínimos y los máximos\n",
        "iris_df_normal.describe()"
      ]
    },
    {
      "cell_type": "code",
      "execution_count": null,
      "id": "f62a782c",
      "metadata": {
        "id": "f62a782c"
      },
      "outputs": [],
      "source": [
        "# Visualizamos la normalización para el ancho de pétalo\n",
        "plt.plot(iris_df_num['petal width (cm)'], color = 'green')\n",
        "plt.plot(iris_df_normal['petal width (cm)'], color = 'red')\n",
        "plt.title('petal width (cm)')\n",
        "plt.legend(['Datos originales', 'Datos normalizados (MinMaxScaler)'])\n",
        "plt.show()"
      ]
    },
    {
      "cell_type": "markdown",
      "id": "793628a2",
      "metadata": {
        "id": "793628a2"
      },
      "source": [
        "Tenemos los siguientes datos:  \n",
        "\n",
        "- iris_df: dataset principal, con todos los datos (150) y con sus cabeceras  \n",
        "- dataframe_setosa: igual que el anterior, pero solo con las 50 setosas  \n",
        "- iris_df_num: dataframe numérico, sin la especie de la flor, con sus cabeceras  \n",
        "- iris_array_normal: array numérico normalizado [0,1], sin la especie de la flor y sin cabeceras\n",
        "- iris_df_normal: dataframe numérico normalizado [0,1], sin la especie de la flor y con cabeceras"
      ]
    },
    {
      "cell_type": "markdown",
      "id": "4c428350",
      "metadata": {
        "id": "4c428350"
      },
      "source": [
        "scatterplot muestra un diagrama de dispersión  \n",
        "https://seaborn.pydata.org/generated/seaborn.scatterplot.html\n",
        "\n",
        "Los datos de la especie los tomamos del dataset original con hue=dataset['label']"
      ]
    },
    {
      "cell_type": "code",
      "execution_count": null,
      "id": "e8887b82",
      "metadata": {
        "id": "e8887b82"
      },
      "outputs": [],
      "source": [
        "# Visualizamos las medidas de pétalo para los dos dataframes\n",
        "# Creamos un diagrama de una fila y dos columnas (1,2)\n",
        "fig, axes = plt.subplots(1,2, figsize=(16,7))\n",
        "\n",
        "sns.scatterplot(x=iris_df_num['petal width (cm)'], y=iris_df_num['petal length (cm)'], hue=iris_df['label'], ax=axes[0])\n",
        "axes[0].set_title(\"Datos originales\")\n",
        "\n",
        "sns.scatterplot(x=iris_df_normal['petal width (cm)'], y=iris_df_normal['petal length (cm)'], hue=iris_df['label'], ax=axes[1])\n",
        "axes[1].set_title(\"Datos normalizados (MinMaxScaler)\")\n",
        "\n",
        "plt.show()"
      ]
    },
    {
      "cell_type": "markdown",
      "id": "67852c6b",
      "metadata": {
        "id": "67852c6b"
      },
      "source": [
        "Se puede apreciar que **se mantienen las relaciones y las proporciones entre las variables**, aunque el rango y la escala se haya cambiado al normalizar los datos."
      ]
    },
    {
      "cell_type": "markdown",
      "id": "a28ae610",
      "metadata": {
        "id": "a28ae610"
      },
      "source": [
        "### **Planteamiento del problema**: predecir la longitud del sépalo (cm) de las flores iris"
      ]
    },
    {
      "cell_type": "markdown",
      "id": "af022a89",
      "metadata": {
        "id": "af022a89"
      },
      "source": [
        "Estableceremos las **longitudes de los pétalos** como la variable ***X*** y el **largo de los sépalos** como la variable ***Y*** (variable objetivo).\n",
        "\n",
        "Y=f(X)\n",
        "\n",
        "Queremos estimar o predecir y (largo de los sépalos) en función de X (largo de los pétalos)\n",
        "\n",
        "Recordamos que en el modelo de regresión lineal simple, sólo tenemos dos variables. Por lo tanto el resto de los datos del dataset no nos interesarán para este ejercicio."
      ]
    },
    {
      "cell_type": "code",
      "execution_count": null,
      "id": "d51351f6",
      "metadata": {
        "id": "d51351f6"
      },
      "outputs": [],
      "source": [
        "arrX = iris_df_num['petal length (cm)']\n",
        "arrY = iris_df_num['sepal length (cm)']\n",
        "\n",
        "print(arrX)\n",
        "print(arrY)"
      ]
    },
    {
      "cell_type": "markdown",
      "id": "1a49dea3",
      "metadata": {
        "id": "1a49dea3"
      },
      "source": [
        "### **Paso 1.**  Obtención y preparación de datos"
      ]
    },
    {
      "cell_type": "markdown",
      "id": "4a452f35",
      "metadata": {
        "id": "4a452f35"
      },
      "source": [
        "### *Estructura de datos (sklearn)*\n",
        "Para entrenar los modelos con la librería sklearn, los datos deben de estar como arrays numericos (como **numpy array bidimensional**) con esta etructura:\n",
        "**(filas = muestras,    columnas = atributos)**"
      ]
    },
    {
      "cell_type": "code",
      "execution_count": null,
      "id": "cf94cc9e",
      "metadata": {
        "id": "cf94cc9e"
      },
      "outputs": [],
      "source": [
        "# Tenemos que adaptar los valores numericos a una estructura 2D\n",
        "print(arrX.values)\n",
        "print(arrX.values.shape)\n",
        "arrX.values.ndim"
      ]
    },
    {
      "cell_type": "markdown",
      "id": "cba07a9e",
      "metadata": {
        "id": "cba07a9e"
      },
      "source": [
        "Aquí el problema es que print(X.values.shape) nos ha devuelto un único array de una dimensión con 146 elementos (146,)\n",
        "\n",
        "X.values.ndim nos dice que la dimensión es 1, pero necesitamos 2\n",
        "\n",
        "Necesitamos conseguir tener un array de dos dimensiones de la forma (146,1) es decir 146x1\n",
        "\n",
        "Tenemos que **restructurar** los datos para que tengan la forma adecuada. Podemos aplicar el ``reshape(-1)`` que es para mantener esa dimensión de tamaño indefinido y hacer que se ajuste al resto de las dimensiones. Es decir por ejemplo ``X.values.reshape(-1,1)`` nos dará un array en que hemos especificado que queremos que tenga 1 columna. Por tanto tendremos que usar las filas necesarias para que \"quepan\" todos los datos.\n",
        "\n",
        "Más info  \n",
        "https://numpy.org/doc/stable/reference/generated/numpy.reshape.html  \n",
        "https://stackoverflow.com/questions/44993977/reshape-a-data-for-sklearn  \n",
        "https://medium.com/@24littledino/reshape-numpy-in-python-e0094198537a  "
      ]
    },
    {
      "cell_type": "code",
      "execution_count": null,
      "id": "0053b90e",
      "metadata": {
        "id": "0053b90e"
      },
      "outputs": [],
      "source": [
        "# Convertir los arrays 1D a arrays bidimensionales (2D)\n",
        "arrX = arrX.values.reshape(-1, 1)\n",
        "arrY = arrY.values.reshape(-1, 1)"
      ]
    },
    {
      "cell_type": "code",
      "execution_count": null,
      "id": "ca70e5a8",
      "metadata": {
        "id": "ca70e5a8"
      },
      "outputs": [],
      "source": [
        "print(arrX)\n",
        "print(arrX.shape)\n",
        "arrX.ndim"
      ]
    },
    {
      "cell_type": "code",
      "execution_count": null,
      "id": "71097300",
      "metadata": {
        "id": "71097300"
      },
      "outputs": [],
      "source": [
        "print(arrY)\n",
        "print(arrY.shape)\n",
        "arrY.ndim"
      ]
    },
    {
      "cell_type": "markdown",
      "id": "7bde94b9",
      "metadata": {
        "id": "7bde94b9"
      },
      "source": [
        "Tenemos los siguientes datos:  \n",
        "\n",
        "- iris_df: dataset principal, con todos los datos (150) y con sus cabeceras  \n",
        "- dataframe_setosa: igual que el anterior, pero solo con las 50 setosas  \n",
        "- iris_df_num: dataframe numérico, sin la especie de la flor, con sus cabeceras  \n",
        "- iris_array_normal: array numérico normalizado [0,1], sin la especie de la flor y sin cabeceras\n",
        "- iris_df_normal: dataframe numérico normalizado [0,1], sin la especie de la flor y con cabeceras"
      ]
    },
    {
      "cell_type": "markdown",
      "id": "c18b6371",
      "metadata": {
        "id": "c18b6371"
      },
      "source": [
        "Recordemos que estamos usando iris_df_num así que tenemos que volver a normalizar"
      ]
    },
    {
      "cell_type": "code",
      "execution_count": null,
      "id": "727436a9",
      "metadata": {
        "id": "727436a9"
      },
      "outputs": [],
      "source": [
        "# Normalizar los datos a escala [0,1]\n",
        "escalado_x = MinMaxScaler().fit(arrX)\n",
        "X_norm = escalado_x.transform(arrX)\n",
        "\n",
        "escalado_y = MinMaxScaler().fit(arrY)\n",
        "Y_norm = escalado_y.transform(arrY)\n"
      ]
    },
    {
      "cell_type": "code",
      "execution_count": null,
      "id": "e9fc9e1e",
      "metadata": {
        "id": "e9fc9e1e"
      },
      "outputs": [],
      "source": [
        "print(X_norm)"
      ]
    },
    {
      "cell_type": "code",
      "execution_count": null,
      "id": "f43b0216",
      "metadata": {
        "id": "f43b0216"
      },
      "outputs": [],
      "source": [
        "print(Y_norm)"
      ]
    },
    {
      "cell_type": "markdown",
      "id": "e796485d",
      "metadata": {
        "id": "e796485d"
      },
      "source": [
        "### **Paso 2.**  Dividir el dataset en Training y Test set"
      ]
    },
    {
      "cell_type": "code",
      "execution_count": null,
      "id": "478e77b0",
      "metadata": {
        "id": "478e77b0"
      },
      "outputs": [],
      "source": [
        "# Separar los conjuntos de datos de entrenamiento (Training) y de prueba (Test) para las variables de entrada y salida\n",
        "from sklearn.model_selection import train_test_split\n",
        "X_train1, X_test1, Y_train1, Y_test1 = train_test_split(X_norm, Y_norm, test_size= 0.3, random_state= 101)"
      ]
    },
    {
      "cell_type": "code",
      "execution_count": null,
      "id": "d15c572c",
      "metadata": {
        "id": "d15c572c"
      },
      "outputs": [],
      "source": [
        "# \"test_size\" representa la proporción del conjunto de datos a incluir en la división de Test\n",
        "print(X_train1.size)\n",
        "print(X_test1.size)\n",
        "X_train1.size + X_test1.size"
      ]
    },
    {
      "cell_type": "markdown",
      "id": "0d77e581",
      "metadata": {
        "id": "0d77e581"
      },
      "source": [
        "### **Paso 3.** Aplicar el modelo de regresión lineal simple"
      ]
    },
    {
      "cell_type": "code",
      "execution_count": null,
      "id": "017e9552",
      "metadata": {
        "id": "017e9552"
      },
      "outputs": [],
      "source": [
        "# Defino el algoritmo a utilizar\n",
        "from sklearn.linear_model import LinearRegression\n",
        "lr = LinearRegression()"
      ]
    },
    {
      "cell_type": "markdown",
      "id": "b77926f0",
      "metadata": {
        "id": "b77926f0"
      },
      "source": [
        "### **Paso 4.** Entrenar el modelo de regresión lineal simple con los datos de entrenamiento"
      ]
    },
    {
      "cell_type": "code",
      "execution_count": null,
      "id": "e13ab632",
      "metadata": {
        "id": "e13ab632"
      },
      "outputs": [],
      "source": [
        "# Entrenamos el modelo con el conjunto de datos de entrenamiento X_train, y_train\n",
        "lr.fit(X_train1, Y_train1)"
      ]
    },
    {
      "cell_type": "markdown",
      "id": "0627fc5f",
      "metadata": {
        "id": "0627fc5f"
      },
      "source": [
        "### **Paso 5.** Obtener las predicciones"
      ]
    },
    {
      "cell_type": "code",
      "execution_count": null,
      "id": "d07473f4",
      "metadata": {
        "id": "d07473f4"
      },
      "outputs": [],
      "source": [
        "# Lanzamos una predicción (siempre indicando un objeto de 2D)\n",
        "lr.predict([[0.8]])"
      ]
    },
    {
      "cell_type": "markdown",
      "id": "045c4383",
      "metadata": {
        "id": "045c4383"
      },
      "source": [
        "Esta predicción significa que si tenemos un pétalo de largo 0.8 cm estimamos que el sépalo será de 0.63 cm"
      ]
    },
    {
      "cell_type": "code",
      "execution_count": null,
      "id": "6c836bc8",
      "metadata": {
        "id": "6c836bc8"
      },
      "outputs": [],
      "source": [
        "# Calcular las estimaciones ajustadas por el modelo (predicciones del conjunto de entrenamiento)\n",
        "pred_train1 = lr.predict(X_train1)\n",
        "pred_train1"
      ]
    },
    {
      "cell_type": "markdown",
      "id": "b1f30bf4",
      "metadata": {
        "id": "b1f30bf4"
      },
      "source": [
        "Esas son las longitudes de los sépalos según la predicción, para el conjunto de datos de entrenamiento (102 elementos)"
      ]
    },
    {
      "cell_type": "code",
      "execution_count": null,
      "id": "17fccadc",
      "metadata": {
        "id": "17fccadc"
      },
      "outputs": [],
      "source": [
        "# Lanzamos todas las predicciones sobre el juego de datos de test\n",
        "pred_test1 = lr.predict(X_test1)\n",
        "pred_test1"
      ]
    },
    {
      "cell_type": "markdown",
      "id": "98d4b29a",
      "metadata": {
        "id": "98d4b29a"
      },
      "source": [
        "Esas son las longitudes de los sépalos según la predicción, para el conjunto de datos de test (44 elementos)"
      ]
    },
    {
      "cell_type": "code",
      "execution_count": null,
      "id": "48a0a199",
      "metadata": {
        "id": "48a0a199"
      },
      "outputs": [],
      "source": [
        "# Desnormalizamos las variables para volver a la escala original\n",
        "\n",
        "# Desnormalizamos el juego de datos de entrenamiento:\n",
        "X_train1_des = escalado_x.inverse_transform(X_train1)\n",
        "Y_train1_des = escalado_y.inverse_transform(Y_train1)\n",
        "\n",
        "# Desnormalizamos el juego de datos de test\n",
        "X_test1_des = escalado_x.inverse_transform(X_test1)\n",
        "Y_test1_des = escalado_y.inverse_transform(Y_test1)\n",
        "\n",
        "# Desnormalizamos las predicciones sobre el conjunto de datos de entrenamiento\n",
        "pred_train1_des = escalado_y.inverse_transform(pred_train1)\n",
        "\n",
        "# Desnormalizamos las predicciones sobre el conjunto de datos de test\n",
        "pred_test1_des = escalado_y.inverse_transform(pred_test1)\n"
      ]
    },
    {
      "cell_type": "code",
      "execution_count": null,
      "id": "d7a490f2",
      "metadata": {
        "id": "d7a490f2"
      },
      "outputs": [],
      "source": [
        "pred_test1_des"
      ]
    },
    {
      "cell_type": "code",
      "execution_count": null,
      "id": "ac0d9c48",
      "metadata": {
        "id": "ac0d9c48"
      },
      "outputs": [],
      "source": [
        "# Visualizar la normalización para el ancho de pétalo\n",
        "plt.plot(pred_test1_des, color = 'green')\n",
        "plt.plot(pred_test1, color = 'red')\n",
        "plt.title('sepal length (cm)')\n",
        "plt.legend(['Predicción en escala original', 'Predicciones normalizadas'])\n",
        "plt.show()"
      ]
    },
    {
      "cell_type": "markdown",
      "id": "a32b3ddd",
      "metadata": {
        "id": "a32b3ddd"
      },
      "source": [
        "### **Paso 6.** Visualizamos los resultados"
      ]
    },
    {
      "cell_type": "markdown",
      "id": "026ce922",
      "metadata": {
        "id": "026ce922"
      },
      "source": [
        "Los **puntos verdes** representan los datos que teníamos guardados en el *y_test* y la línea azul se trata de la **recta de regresión** que hemos generado con el modelo de regresión lineal simple, ajustando el algoritmo a los datos de entrenamiento (los puntos negros). Aquí los **puntos rojos** muestran la salida de nuestro modelo para el conjunto de test."
      ]
    },
    {
      "cell_type": "code",
      "execution_count": null,
      "id": "136256ca",
      "metadata": {
        "id": "136256ca"
      },
      "outputs": [],
      "source": [
        "# Dibujar la recta de regresión\n",
        "plt.plot(X_train1_des, pred_train1_des, color = 'blue')\n",
        "\n",
        "# Dibujar los puntos ajustados al modelo para el conjunto de entrenamiento (Training)\n",
        "plt.scatter(X_train1_des, pred_train1_des, color = 'black')\n",
        "\n",
        "# Dibujar los puntos obtenidos del modelo para el conjunto de prueba (Test)\n",
        "plt.scatter(X_test1_des, pred_test1_des, color = 'red')\n",
        "\n",
        "# Dibujar las medidas reales para el conjunto de prueba (Test)\n",
        "plt.scatter(X_test1_des, Y_test1_des, color = 'green')\n",
        "\n",
        "plt.title('petal length (cm) vs sepal length (cm)')\n",
        "plt.xlabel('petal length (cm)')\n",
        "plt.ylabel('sepal length (cm)')\n",
        "plt.show()"
      ]
    },
    {
      "cell_type": "markdown",
      "id": "04157557",
      "metadata": {
        "id": "04157557"
      },
      "source": [
        "Ahora vamos a comparar la bondad de nuestra predicción con los datos reales.\n",
        "\n",
        "La línea **diagonal** representa el **modelo ideal**, en el cual, cada predicción coincide con el valor real. Cuanto más alejados estén los punto de esta diagonal peor serán nuestras predicciones."
      ]
    },
    {
      "cell_type": "code",
      "execution_count": null,
      "id": "67bce3e9",
      "metadata": {
        "id": "67bce3e9"
      },
      "outputs": [],
      "source": [
        "# Comparación de valores reales vs. predichos\n",
        "plt.scatter(Y_test1_des, pred_test1_des, color = 'red')\n",
        "plt.plot(Y_test1_des, Y_test1_des, color = 'blue')\n",
        "plt.title('valores_reales vs. predicción')\n",
        "plt.xlabel('Y_test1_des')\n",
        "plt.ylabel('pred_test1_des')\n",
        "plt.show()"
      ]
    },
    {
      "cell_type": "markdown",
      "id": "8ee61526",
      "metadata": {
        "id": "8ee61526"
      },
      "source": [
        "### **Paso 7.**  Evaluación del modelo a través de sus métricas"
      ]
    },
    {
      "cell_type": "markdown",
      "id": "2017e266",
      "metadata": {
        "id": "2017e266"
      },
      "source": [
        "Hay diferentes métricas de la evaluación del modelo de regresión, pero la mayoría de ellos se basan en la similitud de los valores pronosticados con reales. Para entender estas métricas primero vamos a definir qué es el error de un modelo de regresión.\n",
        "\n",
        "**El error de un modelo de regresión** es la diferencia entre los datos puntuales y la línea de tendencia (recta regresión lineal en el caso de regresión lineal simple) generada por el algoritmo.\n",
        "\n",
        "El error puede ser determinado de multiples maneras:\n",
        "* Error medio absoluto (**MAE**) es la media del valor absoluto de los errores. Es la medida más fácil de entender, ya que es sólo el error promedio.\n",
        "* Error cuadrático medio (**MSE**) es la media de los errores al cuadrado. Es más popular que el error medio absoluto porque el enfoque se orienta más hacia grandes errores. Esto se debe a que el término al cuadrado aumenta exponencialmente los errores más grandes en comparación con los más pequeños.\n",
        "* Raiz cuadrada del error cuadrático medio (**RMSE**) es la raíz cuadrada de la anterior medida.\n",
        "\n",
        "![image.png](attachment:image.png)\n",
        "\n",
        "**R-cuadrado** (también se conoce como **coeficiente de determinación**) no mide el error sino lo contrario: la calidad de la estimación. Es una métrica popular para determinar la precisión del modelo, es decir, la capacidad del modelo para predecir futuros resultados. Representa como de cerca a realidad están los valores de los datos de la línea de regresión ajustada.\n",
        "\n",
        "El mejor resultado posible es 1.0, y ocurre cuando la predicción coincide con los valores de la variable objetivo. $R^{2}$ puede tomar valores negativos que representan que la predicción es arbitrariamente mala. Cuanto **más alto sea el $R^{2}$, mejor** encaja el modelo a los datos."
      ]
    },
    {
      "cell_type": "code",
      "execution_count": null,
      "id": "c0b8fdaa",
      "metadata": {
        "id": "c0b8fdaa"
      },
      "outputs": [],
      "source": [
        "from sklearn.metrics import mean_absolute_error\n",
        "from sklearn.metrics import mean_absolute_percentage_error\n",
        "from sklearn.metrics import mean_squared_error\n",
        "from sklearn.metrics import r2_score\n",
        "\n",
        "# Métricas de evaluación del modelo sobre el conjunto de datos de test (esta es la que refleja realmente la capacidad predictiva del modelo)\n",
        "print('Mean Absolute Error (MAE):', mean_absolute_error(Y_test1_des, pred_test1_des), \"(ideal=0)\")\n",
        "print('Mean Absolute Percentage Error (MAPE):', mean_absolute_percentage_error(Y_test1_des, pred_test1_des)*100, \"% (ideal=0%)\")\n",
        "print('Mean Squared Error (MSE):', mean_squared_error(Y_test1_des, pred_test1_des), \"(ideal=0)\")\n",
        "print('Root Mean Squared Error (RMSE):', np.sqrt(mean_squared_error(Y_test1_des, pred_test1_des)), \"(ideal=0)\")\n",
        "print('R^2 coefficient of determination:', r2_score(Y_test1_des, pred_test1_des), \"(ideal=1)\")\n"
      ]
    },
    {
      "cell_type": "markdown",
      "id": "d8cef691",
      "metadata": {
        "id": "d8cef691"
      },
      "source": [
        "Mean Absolute Error (MAE): 0.3415162480180699  \n",
        "Mean Absolute Percentage Error (MAPE): 5.650419208670305 %  \n",
        "Mean Squared Error (MSE): 0.18534114649475547  \n",
        "Root Mean Squared Error (RMSE): 0.43051265544087725  \n",
        "R^2 coefficient of determination: 0.7387793950235169  "
      ]
    },
    {
      "cell_type": "markdown",
      "id": "4df1c43a",
      "metadata": {
        "id": "4df1c43a"
      },
      "source": [
        "Comentarios:\n",
        "- Si MAE, MAPE, MSE, RMSE = 0 entonces tenemos una predicción perfecta.\n",
        "- MAPE es un %\n",
        "- Si R^2 = 1 entonces tenemos una predicción perfecta.\n",
        "- MAE y RMSE muestra resultados en las unidades originales de los datos.\n",
        "\n",
        "Además:\n",
        "- MAE es el error promedio (en este caso, en cm)\n",
        "- En MSE elevamos al cuadrado el error (por tanto, el resultado no corresponde con las unidades originales. No son cm)\n",
        "- RMSE soluciona este problema al hacer la raíz cuadrada (tenemos el error nuevamente en cm)\n",
        "- Las métricas MSE y RMSE son muy penalizadas por los errores grandes en la predicción. En cambio, MAE es más \"robusto\" (más optimista) cuando los datos tienen outliers o datos atípicos, así que MAE puede ser la opción más realista con datos atípicos.\n",
        "\n",
        "https://medium.com/@nicolasarrioja/m%C3%A9tricas-en-regresi%C3%B3n-5e5d4259430b\n"
      ]
    }
  ],
  "metadata": {
    "colab": {
      "provenance": []
    },
    "kernelspec": {
      "display_name": "Python 3",
      "language": "python",
      "name": "python3"
    },
    "language_info": {
      "codemirror_mode": {
        "name": "ipython",
        "version": 3
      },
      "file_extension": ".py",
      "mimetype": "text/x-python",
      "name": "python",
      "nbconvert_exporter": "python",
      "pygments_lexer": "ipython3",
      "version": "3.13.1"
    }
  },
  "nbformat": 4,
  "nbformat_minor": 5
}
